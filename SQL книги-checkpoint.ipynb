{
 "cells": [
  {
   "cell_type": "markdown",
   "metadata": {},
   "source": [
    "# Анализ базы данных сервиса для чтения книг"
   ]
  },
  {
   "cell_type": "markdown",
   "metadata": {},
   "source": [
    "**Задача**\n",
    "\n",
    "Коронавирус застал мир врасплох, изменив привычный порядок вещей. В свободное время жители городов больше не выходят на улицу, не посещают кафе и торговые центры. Зато стало больше времени для книг. Это заметили стартаперы — и бросились создавать приложения для тех, кто любит читать.\n",
    "\n",
    "Анализируемая компания решила быть на волне и купила крупный сервис для чтения книг по подписке. Необходимо проанализировать базу данных."
   ]
  },
  {
   "cell_type": "markdown",
   "metadata": {},
   "source": [
    "**Описание данных**\n",
    "\n",
    "Таблица books\n",
    "    \n",
    "    Содержит данные о книгах:\n",
    "    - book_id — идентификатор книги;\n",
    "    - author_id — идентификатор автора;\n",
    "    - title — название книги;\n",
    "    - num_pages — количество страниц;\n",
    "    - publication_date — дата публикации книги;\n",
    "    - publisher_id — идентификатор издателя.\n",
    "\n",
    "Таблица authors\n",
    "    \n",
    "    Содержит данные об авторах:\n",
    "    - author_id — идентификатор автора;\n",
    "    - author — имя автора.\n",
    "\n",
    "Таблица publishers\n",
    "    \n",
    "    Содержит данные об издательствах:\n",
    "    - publisher_id — идентификатор издательства;\n",
    "    - publisher — название издательства;\n",
    "\n",
    "Таблица ratings\n",
    "    \n",
    "    Содержит данные о пользовательских оценках книг:\n",
    "    - rating_id — идентификатор оценки;\n",
    "    - book_id — идентификатор книги;\n",
    "    - username — имя пользователя, оставившего оценку;\n",
    "    - rating — оценка книги.\n",
    "\n",
    "Таблица reviews\n",
    "    \n",
    "    Содержит данные о пользовательских обзорах:\n",
    "    - review_id — идентификатор обзора;\n",
    "    - book_id — идентификатор книги;\n",
    "    - username — имя автора обзора;\n",
    "    - text — текст обзора."
   ]
  },
  {
   "cell_type": "markdown",
   "metadata": {},
   "source": [
    "***Оглавление***\n",
    "\n",
    "[Открытие файла с данными и изучение общей информации](#0)\n",
    "\n",
    "[Задания](#1)\n",
    "\n",
    " * [Количество книг, вышедших после 1 января 2000 года](#2)\n",
    "\n",
    " * [Подсчёт для каждой книги количества обзоров и средней оценки](#3)\n",
    "\n",
    " * [Издательство, которое выпустило наибольшее число книг толще 50 страниц](#4)\n",
    "\n",
    " * [Автор с самой высокой средней оценкой книг](#5)\n",
    "\n",
    " * [Среднее количество обзоров от пользователей, которые поставили больше 48 оценок](#6)"
   ]
  },
  {
   "cell_type": "markdown",
   "metadata": {},
   "source": [
    "<a id='0'></a>\n",
    "## Открытие файла с данными и изучение общей информации"
   ]
  },
  {
   "cell_type": "code",
   "execution_count": 1,
   "metadata": {},
   "outputs": [],
   "source": [
    "import pandas as pd\n",
    "from sqlalchemy import create_engine"
   ]
  },
  {
   "cell_type": "code",
   "execution_count": 2,
   "metadata": {},
   "outputs": [],
   "source": [
    "db_config = {'user': 'praktikum_student', \n",
    " 'pwd': 'Sdf4$2;d-d30pp', \n",
    " 'host': 'rc1b-wcoijxj3yxfsf3fs.mdb.yandexcloud.net',\n",
    " 'port': 6432, \n",
    " 'db': 'data-analyst-final-project-db'} \n",
    "connection_string = 'postgresql://{}:{}@{}:{}/{}'.format(db_config['user'],\n",
    " db_config['pwd'],\n",
    " db_config['host'],\n",
    " db_config['port'],\n",
    " db_config['db'])\n",
    "\n",
    "engine = create_engine(connection_string, connect_args={'sslmode':'require'}) "
   ]
  },
  {
   "cell_type": "code",
   "execution_count": 3,
   "metadata": {},
   "outputs": [
    {
     "name": "stdout",
     "output_type": "stream",
     "text": [
      "\n",
      "\n",
      "--- books ---\n"
     ]
    },
    {
     "data": {
      "text/html": [
       "<div>\n",
       "<style scoped>\n",
       "    .dataframe tbody tr th:only-of-type {\n",
       "        vertical-align: middle;\n",
       "    }\n",
       "\n",
       "    .dataframe tbody tr th {\n",
       "        vertical-align: top;\n",
       "    }\n",
       "\n",
       "    .dataframe thead th {\n",
       "        text-align: right;\n",
       "    }\n",
       "</style>\n",
       "<table border=\"1\" class=\"dataframe\">\n",
       "  <thead>\n",
       "    <tr style=\"text-align: right;\">\n",
       "      <th></th>\n",
       "      <th>book_id</th>\n",
       "      <th>author_id</th>\n",
       "      <th>title</th>\n",
       "      <th>num_pages</th>\n",
       "      <th>publication_date</th>\n",
       "      <th>publisher_id</th>\n",
       "    </tr>\n",
       "  </thead>\n",
       "  <tbody>\n",
       "    <tr>\n",
       "      <th>945</th>\n",
       "      <td>946</td>\n",
       "      <td>459</td>\n",
       "      <td>Twenty Love Poems and a Song of Despair</td>\n",
       "      <td>70</td>\n",
       "      <td>2006-12-26</td>\n",
       "      <td>217</td>\n",
       "    </tr>\n",
       "    <tr>\n",
       "      <th>452</th>\n",
       "      <td>453</td>\n",
       "      <td>605</td>\n",
       "      <td>Mrs. Dalloway</td>\n",
       "      <td>194</td>\n",
       "      <td>2002-10-28</td>\n",
       "      <td>157</td>\n",
       "    </tr>\n",
       "    <tr>\n",
       "      <th>304</th>\n",
       "      <td>305</td>\n",
       "      <td>96</td>\n",
       "      <td>Haunted</td>\n",
       "      <td>419</td>\n",
       "      <td>2006-04-11</td>\n",
       "      <td>15</td>\n",
       "    </tr>\n",
       "    <tr>\n",
       "      <th>433</th>\n",
       "      <td>434</td>\n",
       "      <td>457</td>\n",
       "      <td>Metamorphoses</td>\n",
       "      <td>723</td>\n",
       "      <td>2004-08-03</td>\n",
       "      <td>210</td>\n",
       "    </tr>\n",
       "    <tr>\n",
       "      <th>864</th>\n",
       "      <td>865</td>\n",
       "      <td>560</td>\n",
       "      <td>The Secret Life of Bees</td>\n",
       "      <td>302</td>\n",
       "      <td>2003-01-28</td>\n",
       "      <td>212</td>\n",
       "    </tr>\n",
       "  </tbody>\n",
       "</table>\n",
       "</div>"
      ],
      "text/plain": [
       "     book_id  author_id                                    title  num_pages  \\\n",
       "945      946        459  Twenty Love Poems and a Song of Despair         70   \n",
       "452      453        605                            Mrs. Dalloway        194   \n",
       "304      305         96                                  Haunted        419   \n",
       "433      434        457                            Metamorphoses        723   \n",
       "864      865        560                  The Secret Life of Bees        302   \n",
       "\n",
       "    publication_date  publisher_id  \n",
       "945       2006-12-26           217  \n",
       "452       2002-10-28           157  \n",
       "304       2006-04-11            15  \n",
       "433       2004-08-03           210  \n",
       "864       2003-01-28           212  "
      ]
     },
     "metadata": {},
     "output_type": "display_data"
    },
    {
     "name": "stdout",
     "output_type": "stream",
     "text": [
      "\n",
      "Информация о таблице:\n",
      "<class 'pandas.core.frame.DataFrame'>\n",
      "RangeIndex: 1000 entries, 0 to 999\n",
      "Data columns (total 6 columns):\n",
      " #   Column            Non-Null Count  Dtype \n",
      "---  ------            --------------  ----- \n",
      " 0   book_id           1000 non-null   int64 \n",
      " 1   author_id         1000 non-null   int64 \n",
      " 2   title             1000 non-null   object\n",
      " 3   num_pages         1000 non-null   int64 \n",
      " 4   publication_date  1000 non-null   object\n",
      " 5   publisher_id      1000 non-null   int64 \n",
      "dtypes: int64(4), object(2)\n",
      "memory usage: 47.0+ KB\n",
      "None\n",
      "\n",
      "Отсутствующие значения:\n",
      "book_id             0\n",
      "author_id           0\n",
      "title               0\n",
      "num_pages           0\n",
      "publication_date    0\n",
      "publisher_id        0\n",
      "dtype: int64\n",
      "\n",
      "Дублирующиеся строки:\n",
      "0\n",
      "\n",
      "\n",
      "--- authors ---\n"
     ]
    },
    {
     "data": {
      "text/html": [
       "<div>\n",
       "<style scoped>\n",
       "    .dataframe tbody tr th:only-of-type {\n",
       "        vertical-align: middle;\n",
       "    }\n",
       "\n",
       "    .dataframe tbody tr th {\n",
       "        vertical-align: top;\n",
       "    }\n",
       "\n",
       "    .dataframe thead th {\n",
       "        text-align: right;\n",
       "    }\n",
       "</style>\n",
       "<table border=\"1\" class=\"dataframe\">\n",
       "  <thead>\n",
       "    <tr style=\"text-align: right;\">\n",
       "      <th></th>\n",
       "      <th>author_id</th>\n",
       "      <th>author</th>\n",
       "    </tr>\n",
       "  </thead>\n",
       "  <tbody>\n",
       "    <tr>\n",
       "      <th>572</th>\n",
       "      <td>573</td>\n",
       "      <td>Theo LeSieg/Dr. Seuss/Roy McKie</td>\n",
       "    </tr>\n",
       "    <tr>\n",
       "      <th>606</th>\n",
       "      <td>607</td>\n",
       "      <td>W. Chan Kim/Renée Mauborgne</td>\n",
       "    </tr>\n",
       "    <tr>\n",
       "      <th>157</th>\n",
       "      <td>158</td>\n",
       "      <td>Edward Albee</td>\n",
       "    </tr>\n",
       "    <tr>\n",
       "      <th>397</th>\n",
       "      <td>398</td>\n",
       "      <td>Mark Twain/Guy Cardwell/John Seelye/Walter Trier</td>\n",
       "    </tr>\n",
       "    <tr>\n",
       "      <th>533</th>\n",
       "      <td>534</td>\n",
       "      <td>Shel Silverstein</td>\n",
       "    </tr>\n",
       "  </tbody>\n",
       "</table>\n",
       "</div>"
      ],
      "text/plain": [
       "     author_id                                            author\n",
       "572        573                   Theo LeSieg/Dr. Seuss/Roy McKie\n",
       "606        607                       W. Chan Kim/Renée Mauborgne\n",
       "157        158                                      Edward Albee\n",
       "397        398  Mark Twain/Guy Cardwell/John Seelye/Walter Trier\n",
       "533        534                                  Shel Silverstein"
      ]
     },
     "metadata": {},
     "output_type": "display_data"
    },
    {
     "name": "stdout",
     "output_type": "stream",
     "text": [
      "\n",
      "Информация о таблице:\n",
      "<class 'pandas.core.frame.DataFrame'>\n",
      "RangeIndex: 636 entries, 0 to 635\n",
      "Data columns (total 2 columns):\n",
      " #   Column     Non-Null Count  Dtype \n",
      "---  ------     --------------  ----- \n",
      " 0   author_id  636 non-null    int64 \n",
      " 1   author     636 non-null    object\n",
      "dtypes: int64(1), object(1)\n",
      "memory usage: 10.1+ KB\n",
      "None\n",
      "\n",
      "Отсутствующие значения:\n",
      "author_id    0\n",
      "author       0\n",
      "dtype: int64\n",
      "\n",
      "Дублирующиеся строки:\n",
      "0\n",
      "\n",
      "\n",
      "--- publishers ---\n"
     ]
    },
    {
     "data": {
      "text/html": [
       "<div>\n",
       "<style scoped>\n",
       "    .dataframe tbody tr th:only-of-type {\n",
       "        vertical-align: middle;\n",
       "    }\n",
       "\n",
       "    .dataframe tbody tr th {\n",
       "        vertical-align: top;\n",
       "    }\n",
       "\n",
       "    .dataframe thead th {\n",
       "        text-align: right;\n",
       "    }\n",
       "</style>\n",
       "<table border=\"1\" class=\"dataframe\">\n",
       "  <thead>\n",
       "    <tr style=\"text-align: right;\">\n",
       "      <th></th>\n",
       "      <th>publisher_id</th>\n",
       "      <th>publisher</th>\n",
       "    </tr>\n",
       "  </thead>\n",
       "  <tbody>\n",
       "    <tr>\n",
       "      <th>226</th>\n",
       "      <td>227</td>\n",
       "      <td>Plume Books</td>\n",
       "    </tr>\n",
       "    <tr>\n",
       "      <th>101</th>\n",
       "      <td>102</td>\n",
       "      <td>Eos</td>\n",
       "    </tr>\n",
       "    <tr>\n",
       "      <th>67</th>\n",
       "      <td>68</td>\n",
       "      <td>Crown</td>\n",
       "    </tr>\n",
       "    <tr>\n",
       "      <th>33</th>\n",
       "      <td>34</td>\n",
       "      <td>Ballantine Books (NY)</td>\n",
       "    </tr>\n",
       "    <tr>\n",
       "      <th>248</th>\n",
       "      <td>249</td>\n",
       "      <td>Rizzoli</td>\n",
       "    </tr>\n",
       "  </tbody>\n",
       "</table>\n",
       "</div>"
      ],
      "text/plain": [
       "     publisher_id              publisher\n",
       "226           227            Plume Books\n",
       "101           102                    Eos\n",
       "67             68                  Crown\n",
       "33             34  Ballantine Books (NY)\n",
       "248           249                Rizzoli"
      ]
     },
     "metadata": {},
     "output_type": "display_data"
    },
    {
     "name": "stdout",
     "output_type": "stream",
     "text": [
      "\n",
      "Информация о таблице:\n",
      "<class 'pandas.core.frame.DataFrame'>\n",
      "RangeIndex: 340 entries, 0 to 339\n",
      "Data columns (total 2 columns):\n",
      " #   Column        Non-Null Count  Dtype \n",
      "---  ------        --------------  ----- \n",
      " 0   publisher_id  340 non-null    int64 \n",
      " 1   publisher     340 non-null    object\n",
      "dtypes: int64(1), object(1)\n",
      "memory usage: 5.4+ KB\n",
      "None\n",
      "\n",
      "Отсутствующие значения:\n",
      "publisher_id    0\n",
      "publisher       0\n",
      "dtype: int64\n",
      "\n",
      "Дублирующиеся строки:\n",
      "0\n",
      "\n",
      "\n",
      "--- ratings ---\n"
     ]
    },
    {
     "data": {
      "text/html": [
       "<div>\n",
       "<style scoped>\n",
       "    .dataframe tbody tr th:only-of-type {\n",
       "        vertical-align: middle;\n",
       "    }\n",
       "\n",
       "    .dataframe tbody tr th {\n",
       "        vertical-align: top;\n",
       "    }\n",
       "\n",
       "    .dataframe thead th {\n",
       "        text-align: right;\n",
       "    }\n",
       "</style>\n",
       "<table border=\"1\" class=\"dataframe\">\n",
       "  <thead>\n",
       "    <tr style=\"text-align: right;\">\n",
       "      <th></th>\n",
       "      <th>rating_id</th>\n",
       "      <th>book_id</th>\n",
       "      <th>username</th>\n",
       "      <th>rating</th>\n",
       "    </tr>\n",
       "  </thead>\n",
       "  <tbody>\n",
       "    <tr>\n",
       "      <th>2873</th>\n",
       "      <td>2874</td>\n",
       "      <td>446</td>\n",
       "      <td>paul88</td>\n",
       "      <td>2</td>\n",
       "    </tr>\n",
       "    <tr>\n",
       "      <th>4417</th>\n",
       "      <td>4418</td>\n",
       "      <td>696</td>\n",
       "      <td>amy97</td>\n",
       "      <td>5</td>\n",
       "    </tr>\n",
       "    <tr>\n",
       "      <th>1995</th>\n",
       "      <td>1996</td>\n",
       "      <td>308</td>\n",
       "      <td>jarvispaul</td>\n",
       "      <td>5</td>\n",
       "    </tr>\n",
       "    <tr>\n",
       "      <th>905</th>\n",
       "      <td>906</td>\n",
       "      <td>147</td>\n",
       "      <td>shafferrobert</td>\n",
       "      <td>3</td>\n",
       "    </tr>\n",
       "    <tr>\n",
       "      <th>5981</th>\n",
       "      <td>5982</td>\n",
       "      <td>931</td>\n",
       "      <td>johngonzalez</td>\n",
       "      <td>5</td>\n",
       "    </tr>\n",
       "  </tbody>\n",
       "</table>\n",
       "</div>"
      ],
      "text/plain": [
       "      rating_id  book_id       username  rating\n",
       "2873       2874      446         paul88       2\n",
       "4417       4418      696          amy97       5\n",
       "1995       1996      308     jarvispaul       5\n",
       "905         906      147  shafferrobert       3\n",
       "5981       5982      931   johngonzalez       5"
      ]
     },
     "metadata": {},
     "output_type": "display_data"
    },
    {
     "name": "stdout",
     "output_type": "stream",
     "text": [
      "\n",
      "Информация о таблице:\n",
      "<class 'pandas.core.frame.DataFrame'>\n",
      "RangeIndex: 6456 entries, 0 to 6455\n",
      "Data columns (total 4 columns):\n",
      " #   Column     Non-Null Count  Dtype \n",
      "---  ------     --------------  ----- \n",
      " 0   rating_id  6456 non-null   int64 \n",
      " 1   book_id    6456 non-null   int64 \n",
      " 2   username   6456 non-null   object\n",
      " 3   rating     6456 non-null   int64 \n",
      "dtypes: int64(3), object(1)\n",
      "memory usage: 201.9+ KB\n",
      "None\n",
      "\n",
      "Отсутствующие значения:\n",
      "rating_id    0\n",
      "book_id      0\n",
      "username     0\n",
      "rating       0\n",
      "dtype: int64\n",
      "\n",
      "Дублирующиеся строки:\n",
      "0\n",
      "\n",
      "\n",
      "--- reviews ---\n"
     ]
    },
    {
     "data": {
      "text/html": [
       "<div>\n",
       "<style scoped>\n",
       "    .dataframe tbody tr th:only-of-type {\n",
       "        vertical-align: middle;\n",
       "    }\n",
       "\n",
       "    .dataframe tbody tr th {\n",
       "        vertical-align: top;\n",
       "    }\n",
       "\n",
       "    .dataframe thead th {\n",
       "        text-align: right;\n",
       "    }\n",
       "</style>\n",
       "<table border=\"1\" class=\"dataframe\">\n",
       "  <thead>\n",
       "    <tr style=\"text-align: right;\">\n",
       "      <th></th>\n",
       "      <th>review_id</th>\n",
       "      <th>book_id</th>\n",
       "      <th>username</th>\n",
       "      <th>text</th>\n",
       "    </tr>\n",
       "  </thead>\n",
       "  <tbody>\n",
       "    <tr>\n",
       "      <th>1647</th>\n",
       "      <td>1646</td>\n",
       "      <td>596</td>\n",
       "      <td>laura42</td>\n",
       "      <td>Home front reality than seat address. Little r...</td>\n",
       "    </tr>\n",
       "    <tr>\n",
       "      <th>2165</th>\n",
       "      <td>2165</td>\n",
       "      <td>779</td>\n",
       "      <td>yvasquez</td>\n",
       "      <td>Resource voice same ability audience leg base....</td>\n",
       "    </tr>\n",
       "    <tr>\n",
       "      <th>1741</th>\n",
       "      <td>1740</td>\n",
       "      <td>631</td>\n",
       "      <td>samuel96</td>\n",
       "      <td>Cut push black crime hand be. That left fire s...</td>\n",
       "    </tr>\n",
       "    <tr>\n",
       "      <th>2213</th>\n",
       "      <td>2213</td>\n",
       "      <td>797</td>\n",
       "      <td>carlsondean</td>\n",
       "      <td>Impact always follow. Policy when particular p...</td>\n",
       "    </tr>\n",
       "    <tr>\n",
       "      <th>1796</th>\n",
       "      <td>1795</td>\n",
       "      <td>650</td>\n",
       "      <td>emcdaniel</td>\n",
       "      <td>Wind painting boy. Dark receive list number by.</td>\n",
       "    </tr>\n",
       "  </tbody>\n",
       "</table>\n",
       "</div>"
      ],
      "text/plain": [
       "      review_id  book_id     username  \\\n",
       "1647       1646      596      laura42   \n",
       "2165       2165      779     yvasquez   \n",
       "1741       1740      631     samuel96   \n",
       "2213       2213      797  carlsondean   \n",
       "1796       1795      650    emcdaniel   \n",
       "\n",
       "                                                   text  \n",
       "1647  Home front reality than seat address. Little r...  \n",
       "2165  Resource voice same ability audience leg base....  \n",
       "1741  Cut push black crime hand be. That left fire s...  \n",
       "2213  Impact always follow. Policy when particular p...  \n",
       "1796    Wind painting boy. Dark receive list number by.  "
      ]
     },
     "metadata": {},
     "output_type": "display_data"
    },
    {
     "name": "stdout",
     "output_type": "stream",
     "text": [
      "\n",
      "Информация о таблице:\n",
      "<class 'pandas.core.frame.DataFrame'>\n",
      "RangeIndex: 2793 entries, 0 to 2792\n",
      "Data columns (total 4 columns):\n",
      " #   Column     Non-Null Count  Dtype \n",
      "---  ------     --------------  ----- \n",
      " 0   review_id  2793 non-null   int64 \n",
      " 1   book_id    2793 non-null   int64 \n",
      " 2   username   2793 non-null   object\n",
      " 3   text       2793 non-null   object\n",
      "dtypes: int64(2), object(2)\n",
      "memory usage: 87.4+ KB\n",
      "None\n",
      "\n",
      "Отсутствующие значения:\n",
      "review_id    0\n",
      "book_id      0\n",
      "username     0\n",
      "text         0\n",
      "dtype: int64\n",
      "\n",
      "Дублирующиеся строки:\n",
      "0\n"
     ]
    }
   ],
   "source": [
    "tables = ['books', 'authors', 'publishers', 'ratings', 'reviews']\n",
    "\n",
    "for table in tables:\n",
    "    query = f\"SELECT * FROM {table}\"\n",
    "    data = pd.io.sql.read_sql(query, con=engine)\n",
    "    \n",
    "    print(\"\\n\")\n",
    "    print(f\"--- {table} ---\")\n",
    "    \n",
    "    display(data.sample(5, random_state=13))\n",
    "    \n",
    "    print(\"\\nИнформация о таблице:\")\n",
    "    print(data.info())\n",
    "    \n",
    "    print(\"\\nОтсутствующие значения:\")\n",
    "    print(data.isnull().sum())\n",
    "    \n",
    "    print(\"\\nДублирующиеся строки:\")\n",
    "    print(data.duplicated().sum())"
   ]
  },
  {
   "cell_type": "markdown",
   "metadata": {},
   "source": [
    "**Вывод**\n",
    "\n",
    "Данные были загружены и оценены. Пропусков и дубликатов не обнаружено."
   ]
  },
  {
   "cell_type": "markdown",
   "metadata": {},
   "source": [
    "<a id='1'></a>\n",
    "## Задания"
   ]
  },
  {
   "cell_type": "markdown",
   "metadata": {},
   "source": [
    "<a id='2'></a>\n",
    "### Количество книг, вышедших после 1 января 2000 года"
   ]
  },
  {
   "cell_type": "code",
   "execution_count": 4,
   "metadata": {},
   "outputs": [
    {
     "name": "stdout",
     "output_type": "stream",
     "text": [
      "Количество книг, вышедших после 1 января 2000 года: 819\n"
     ]
    }
   ],
   "source": [
    "query = '''\n",
    "        SELECT COUNT(*) AS book_count\n",
    "        FROM books\n",
    "        WHERE publication_date > '2000-01-01'\n",
    "        '''\n",
    "result = pd.io.sql.read_sql(query, con = engine)\n",
    "\n",
    "book_count = result['book_count'].values[0]\n",
    "print(\"Количество книг, вышедших после 1 января 2000 года:\", book_count)"
   ]
  },
  {
   "cell_type": "markdown",
   "metadata": {},
   "source": [
    "<a id='3'></a>\n",
    "### Подсчёт для каждой книги количества обзоров и средней оценки"
   ]
  },
  {
   "cell_type": "code",
   "execution_count": 5,
   "metadata": {},
   "outputs": [
    {
     "data": {
      "text/html": [
       "<div>\n",
       "<style scoped>\n",
       "    .dataframe tbody tr th:only-of-type {\n",
       "        vertical-align: middle;\n",
       "    }\n",
       "\n",
       "    .dataframe tbody tr th {\n",
       "        vertical-align: top;\n",
       "    }\n",
       "\n",
       "    .dataframe thead th {\n",
       "        text-align: right;\n",
       "    }\n",
       "</style>\n",
       "<table border=\"1\" class=\"dataframe\">\n",
       "  <thead>\n",
       "    <tr style=\"text-align: right;\">\n",
       "      <th></th>\n",
       "      <th>book_id</th>\n",
       "      <th>title</th>\n",
       "      <th>cnt_reviews</th>\n",
       "      <th>avg_rating</th>\n",
       "    </tr>\n",
       "  </thead>\n",
       "  <tbody>\n",
       "    <tr>\n",
       "      <th>0</th>\n",
       "      <td>1</td>\n",
       "      <td>'Salem's Lot</td>\n",
       "      <td>2</td>\n",
       "      <td>3.67</td>\n",
       "    </tr>\n",
       "    <tr>\n",
       "      <th>1</th>\n",
       "      <td>2</td>\n",
       "      <td>1 000 Places to See Before You Die</td>\n",
       "      <td>1</td>\n",
       "      <td>2.50</td>\n",
       "    </tr>\n",
       "    <tr>\n",
       "      <th>2</th>\n",
       "      <td>3</td>\n",
       "      <td>13 Little Blue Envelopes (Little Blue Envelope...</td>\n",
       "      <td>3</td>\n",
       "      <td>4.67</td>\n",
       "    </tr>\n",
       "    <tr>\n",
       "      <th>3</th>\n",
       "      <td>4</td>\n",
       "      <td>1491: New Revelations of the Americas Before C...</td>\n",
       "      <td>2</td>\n",
       "      <td>4.50</td>\n",
       "    </tr>\n",
       "    <tr>\n",
       "      <th>4</th>\n",
       "      <td>5</td>\n",
       "      <td>1776</td>\n",
       "      <td>4</td>\n",
       "      <td>4.00</td>\n",
       "    </tr>\n",
       "    <tr>\n",
       "      <th>...</th>\n",
       "      <td>...</td>\n",
       "      <td>...</td>\n",
       "      <td>...</td>\n",
       "      <td>...</td>\n",
       "    </tr>\n",
       "    <tr>\n",
       "      <th>995</th>\n",
       "      <td>996</td>\n",
       "      <td>Wyrd Sisters (Discworld  #6; Witches #2)</td>\n",
       "      <td>3</td>\n",
       "      <td>3.67</td>\n",
       "    </tr>\n",
       "    <tr>\n",
       "      <th>996</th>\n",
       "      <td>997</td>\n",
       "      <td>Xenocide (Ender's Saga  #3)</td>\n",
       "      <td>3</td>\n",
       "      <td>3.40</td>\n",
       "    </tr>\n",
       "    <tr>\n",
       "      <th>997</th>\n",
       "      <td>998</td>\n",
       "      <td>Year of Wonders</td>\n",
       "      <td>4</td>\n",
       "      <td>3.20</td>\n",
       "    </tr>\n",
       "    <tr>\n",
       "      <th>998</th>\n",
       "      <td>999</td>\n",
       "      <td>You Suck (A Love Story  #2)</td>\n",
       "      <td>2</td>\n",
       "      <td>4.50</td>\n",
       "    </tr>\n",
       "    <tr>\n",
       "      <th>999</th>\n",
       "      <td>1000</td>\n",
       "      <td>Zen and the Art of Motorcycle Maintenance: An ...</td>\n",
       "      <td>4</td>\n",
       "      <td>3.83</td>\n",
       "    </tr>\n",
       "  </tbody>\n",
       "</table>\n",
       "<p>1000 rows × 4 columns</p>\n",
       "</div>"
      ],
      "text/plain": [
       "     book_id                                              title  cnt_reviews  \\\n",
       "0          1                                       'Salem's Lot            2   \n",
       "1          2                 1 000 Places to See Before You Die            1   \n",
       "2          3  13 Little Blue Envelopes (Little Blue Envelope...            3   \n",
       "3          4  1491: New Revelations of the Americas Before C...            2   \n",
       "4          5                                               1776            4   \n",
       "..       ...                                                ...          ...   \n",
       "995      996           Wyrd Sisters (Discworld  #6; Witches #2)            3   \n",
       "996      997                        Xenocide (Ender's Saga  #3)            3   \n",
       "997      998                                    Year of Wonders            4   \n",
       "998      999                        You Suck (A Love Story  #2)            2   \n",
       "999     1000  Zen and the Art of Motorcycle Maintenance: An ...            4   \n",
       "\n",
       "     avg_rating  \n",
       "0          3.67  \n",
       "1          2.50  \n",
       "2          4.67  \n",
       "3          4.50  \n",
       "4          4.00  \n",
       "..          ...  \n",
       "995        3.67  \n",
       "996        3.40  \n",
       "997        3.20  \n",
       "998        4.50  \n",
       "999        3.83  \n",
       "\n",
       "[1000 rows x 4 columns]"
      ]
     },
     "execution_count": 5,
     "metadata": {},
     "output_type": "execute_result"
    }
   ],
   "source": [
    "query = '''\n",
    "SELECT books.book_id, \n",
    "       books.title, \n",
    "       COUNT(DISTINCT review_id) AS cnt_reviews, \n",
    "       ROUND(AVG(rating), 2) AS avg_rating\n",
    "       \n",
    "FROM books\n",
    "LEFT JOIN reviews ON books.book_id = reviews.book_id\n",
    "LEFT JOIN ratings ON books.book_id = ratings.book_id\n",
    "\n",
    "GROUP BY books.book_id, books.title\n",
    "ORDER BY title\n",
    "\n",
    "'''\n",
    "pd.io.sql.read_sql(query, con = engine)"
   ]
  },
  {
   "cell_type": "markdown",
   "metadata": {},
   "source": [
    "<a id='4'></a>\n",
    "### Издательство, которое выпустило наибольшее число книг толще 50 страниц"
   ]
  },
  {
   "cell_type": "code",
   "execution_count": 6,
   "metadata": {},
   "outputs": [
    {
     "name": "stdout",
     "output_type": "stream",
     "text": [
      "Издательство: Penguin Books\n",
      "Количество книг: 42\n"
     ]
    }
   ],
   "source": [
    "query = '''\n",
    "        SELECT p.publisher, COUNT(b.book_id) AS book_count\n",
    "        FROM publishers p\n",
    "        INNER JOIN books b ON p.publisher_id = b.publisher_id\n",
    "        WHERE b.num_pages > 50\n",
    "        GROUP BY p.publisher\n",
    "        ORDER BY book_count DESC\n",
    "        LIMIT 1\n",
    "        '''\n",
    "publisher_result = pd.read_sql_query(query, con=engine)\n",
    "\n",
    "publisher = publisher_result['publisher'].values[0]\n",
    "book_count = publisher_result['book_count'].values[0]\n",
    "print(\"Издательство:\", publisher)\n",
    "print(\"Количество книг:\", book_count)\n"
   ]
  },
  {
   "cell_type": "markdown",
   "metadata": {},
   "source": [
    "<a id='5'></a>\n",
    "### Автор с самой высокой средней оценкой книг"
   ]
  },
  {
   "cell_type": "code",
   "execution_count": 7,
   "metadata": {},
   "outputs": [
    {
     "name": "stdout",
     "output_type": "stream",
     "text": [
      "Автор: J.K. Rowling/Mary GrandPré\n",
      "Средняя оценка: 4.29\n"
     ]
    }
   ],
   "source": [
    "query = '''\n",
    "        SELECT a.author, AVG(r.rating) AS average_rating\n",
    "        FROM authors a\n",
    "        INNER JOIN (\n",
    "            SELECT b.author_id, b.book_id\n",
    "            FROM books b\n",
    "            INNER JOIN ratings r ON b.book_id = r.book_id\n",
    "            GROUP BY b.author_id, b.book_id\n",
    "            HAVING COUNT(r.rating_id) >= 50\n",
    "        ) AS filtered_books ON a.author_id = filtered_books.author_id\n",
    "        INNER JOIN ratings r ON filtered_books.book_id = r.book_id\n",
    "        GROUP BY a.author\n",
    "        ORDER BY average_rating DESC\n",
    "        LIMIT 1\n",
    "        '''\n",
    "\n",
    "author_result = pd.read_sql_query(query, con=engine)\n",
    "\n",
    "author = author_result['author'].values[0]\n",
    "average_rating = author_result['average_rating'].values[0]\n",
    "print(\"Автор:\", author)\n",
    "print(\"Средняя оценка:\", round(average_rating, 2))\n"
   ]
  },
  {
   "cell_type": "markdown",
   "metadata": {},
   "source": [
    "<a id='6'></a>\n",
    "### Среднее количество обзоров от пользователей, которые поставили больше 48 оценок"
   ]
  },
  {
   "cell_type": "code",
   "execution_count": 8,
   "metadata": {},
   "outputs": [
    {
     "name": "stdout",
     "output_type": "stream",
     "text": [
      "Среднее количество обзоров от пользователей, которые поставили больше 48 оценок: 24.0\n"
     ]
    }
   ],
   "source": [
    "query = '''\n",
    "        SELECT AVG(count_reviews)\n",
    "        FROM (\n",
    "            SELECT username, COUNT(*) AS count_reviews\n",
    "            FROM reviews\n",
    "            WHERE username IN (\n",
    "                SELECT username\n",
    "                FROM ratings\n",
    "                GROUP BY username\n",
    "                HAVING COUNT(*) > 48)\n",
    "            GROUP BY username\n",
    "        ) AS review_counts\n",
    "        '''\n",
    "average_review_count_result = pd.read_sql_query(query, con=engine)\n",
    "\n",
    "average_review_count = average_review_count_result['avg'].values[0]\n",
    "print(\"Среднее количество обзоров от пользователей, которые поставили больше 48 оценок:\", average_review_count)"
   ]
  },
  {
   "cell_type": "markdown",
   "metadata": {},
   "source": [
    "**Вывод**\n",
    "\n",
    "В ходе исследования было выявлено:\n",
    "* Количество книг, вышедших после 1 января 2000 года: 819;\n",
    "* Издательство, которое выпустило наибольшее число книг толще 50 страниц - Penguin Books (Количество книг: 42);\n",
    "* Авторы с самой высокой средней оценкой книг - Джоан Роулинг и  Мэри ГрандПре (Средняя оценка: 4.29);\n",
    "* Среднее количество обзоров от пользователей, которые поставили больше 48 оценок: 24.0."
   ]
  }
 ],
 "metadata": {
  "ExecuteTimeLog": [
   {
    "duration": 94,
    "start_time": "2023-06-16T15:54:23.105Z"
   },
   {
    "duration": 10437,
    "start_time": "2023-06-16T15:55:01.681Z"
   },
   {
    "duration": 7750,
    "start_time": "2023-06-16T16:00:06.809Z"
   },
   {
    "duration": 106,
    "start_time": "2023-06-16T16:04:24.091Z"
   },
   {
    "duration": 73,
    "start_time": "2023-06-16T16:04:41.603Z"
   },
   {
    "duration": 8380,
    "start_time": "2023-06-16T16:06:15.038Z"
   },
   {
    "duration": 73,
    "start_time": "2023-06-16T16:06:23.421Z"
   },
   {
    "duration": 3,
    "start_time": "2023-06-16T16:07:46.985Z"
   },
   {
    "duration": 5,
    "start_time": "2023-06-16T16:07:47.633Z"
   },
   {
    "duration": 70,
    "start_time": "2023-06-16T16:07:48.290Z"
   },
   {
    "duration": 460,
    "start_time": "2023-06-16T16:08:35.502Z"
   },
   {
    "duration": 6967,
    "start_time": "2023-06-16T16:08:35.964Z"
   },
   {
    "duration": 62,
    "start_time": "2023-06-16T16:08:42.932Z"
   },
   {
    "duration": 61,
    "start_time": "2023-06-16T16:10:08.802Z"
   },
   {
    "duration": 87,
    "start_time": "2023-06-16T16:11:07.427Z"
   },
   {
    "duration": 65,
    "start_time": "2023-06-16T16:19:05.006Z"
   },
   {
    "duration": 8,
    "start_time": "2023-06-16T16:19:17.715Z"
   },
   {
    "duration": 22,
    "start_time": "2023-06-16T16:19:26.960Z"
   },
   {
    "duration": 11,
    "start_time": "2023-06-16T16:22:35.973Z"
   },
   {
    "duration": 9,
    "start_time": "2023-06-16T16:22:39.525Z"
   },
   {
    "duration": 27,
    "start_time": "2023-06-16T16:22:50.619Z"
   },
   {
    "duration": 8,
    "start_time": "2023-06-16T16:30:19.701Z"
   },
   {
    "duration": 7,
    "start_time": "2023-06-16T16:30:34.970Z"
   },
   {
    "duration": 12,
    "start_time": "2023-06-16T16:30:37.951Z"
   },
   {
    "duration": 103,
    "start_time": "2023-06-16T21:27:42.724Z"
   },
   {
    "duration": 41,
    "start_time": "2023-06-16T21:27:46.854Z"
   },
   {
    "duration": 471,
    "start_time": "2023-06-16T21:27:57.680Z"
   },
   {
    "duration": 6856,
    "start_time": "2023-06-16T21:27:58.153Z"
   },
   {
    "duration": 81,
    "start_time": "2023-06-16T21:28:05.010Z"
   },
   {
    "duration": 63,
    "start_time": "2023-06-16T21:28:05.093Z"
   },
   {
    "duration": 0,
    "start_time": "2023-06-16T21:28:05.158Z"
   },
   {
    "duration": 78,
    "start_time": "2023-06-16T21:29:08.720Z"
   },
   {
    "duration": 18,
    "start_time": "2023-06-16T21:34:51.888Z"
   },
   {
    "duration": 7,
    "start_time": "2023-06-16T21:34:53.786Z"
   },
   {
    "duration": 6,
    "start_time": "2023-06-16T21:34:57.739Z"
   },
   {
    "duration": 9,
    "start_time": "2023-06-16T21:35:19.587Z"
   },
   {
    "duration": 436,
    "start_time": "2023-06-16T21:37:18.911Z"
   },
   {
    "duration": 7147,
    "start_time": "2023-06-16T21:37:19.349Z"
   },
   {
    "duration": 108,
    "start_time": "2023-06-16T21:37:26.498Z"
   },
   {
    "duration": 10,
    "start_time": "2023-06-16T21:37:26.607Z"
   },
   {
    "duration": 7,
    "start_time": "2023-06-16T21:37:26.619Z"
   },
   {
    "duration": 9,
    "start_time": "2023-06-16T21:37:26.627Z"
   },
   {
    "duration": 21,
    "start_time": "2023-06-16T21:37:26.638Z"
   },
   {
    "duration": 10,
    "start_time": "2023-06-16T21:37:26.661Z"
   },
   {
    "duration": 19,
    "start_time": "2023-06-16T21:37:26.672Z"
   },
   {
    "duration": 6,
    "start_time": "2023-06-16T21:37:26.693Z"
   },
   {
    "duration": 13,
    "start_time": "2023-06-16T21:37:26.700Z"
   },
   {
    "duration": 9,
    "start_time": "2023-06-16T21:37:26.715Z"
   },
   {
    "duration": 8,
    "start_time": "2023-06-16T21:37:26.725Z"
   },
   {
    "duration": 4,
    "start_time": "2023-06-16T21:37:26.755Z"
   },
   {
    "duration": 36,
    "start_time": "2023-06-16T21:37:26.761Z"
   },
   {
    "duration": 9,
    "start_time": "2023-06-16T21:37:26.798Z"
   },
   {
    "duration": 11,
    "start_time": "2023-06-16T21:37:26.808Z"
   },
   {
    "duration": 9,
    "start_time": "2023-06-16T21:37:26.821Z"
   },
   {
    "duration": 24,
    "start_time": "2023-06-16T21:37:26.831Z"
   },
   {
    "duration": 9,
    "start_time": "2023-06-16T21:37:26.856Z"
   },
   {
    "duration": 8,
    "start_time": "2023-06-16T21:37:26.866Z"
   },
   {
    "duration": 12,
    "start_time": "2023-06-16T21:37:26.875Z"
   },
   {
    "duration": 490,
    "start_time": "2023-06-16T21:42:01.273Z"
   },
   {
    "duration": 6731,
    "start_time": "2023-06-16T21:42:01.765Z"
   },
   {
    "duration": 229,
    "start_time": "2023-06-16T21:42:08.498Z"
   },
   {
    "duration": 10,
    "start_time": "2023-06-16T21:42:08.729Z"
   },
   {
    "duration": 7,
    "start_time": "2023-06-16T21:42:08.740Z"
   },
   {
    "duration": 6,
    "start_time": "2023-06-16T21:42:08.748Z"
   },
   {
    "duration": 12,
    "start_time": "2023-06-16T21:42:08.755Z"
   },
   {
    "duration": 8,
    "start_time": "2023-06-16T21:42:08.768Z"
   },
   {
    "duration": 6,
    "start_time": "2023-06-16T21:42:08.778Z"
   },
   {
    "duration": 5,
    "start_time": "2023-06-16T21:42:08.786Z"
   },
   {
    "duration": 11,
    "start_time": "2023-06-16T21:42:08.792Z"
   },
   {
    "duration": 9,
    "start_time": "2023-06-16T21:42:08.804Z"
   },
   {
    "duration": 11,
    "start_time": "2023-06-16T21:42:08.814Z"
   },
   {
    "duration": 30,
    "start_time": "2023-06-16T21:42:08.826Z"
   },
   {
    "duration": 27,
    "start_time": "2023-06-16T21:42:08.857Z"
   },
   {
    "duration": 8,
    "start_time": "2023-06-16T21:42:08.885Z"
   },
   {
    "duration": 13,
    "start_time": "2023-06-16T21:42:08.895Z"
   },
   {
    "duration": 7,
    "start_time": "2023-06-16T21:42:08.909Z"
   },
   {
    "duration": 25,
    "start_time": "2023-06-16T21:42:08.917Z"
   },
   {
    "duration": 14,
    "start_time": "2023-06-16T21:42:08.943Z"
   },
   {
    "duration": 7,
    "start_time": "2023-06-16T21:42:08.958Z"
   },
   {
    "duration": 8,
    "start_time": "2023-06-16T21:42:08.966Z"
   },
   {
    "duration": 431,
    "start_time": "2023-06-16T21:47:16.808Z"
   },
   {
    "duration": 6765,
    "start_time": "2023-06-16T21:47:17.241Z"
   },
   {
    "duration": 145,
    "start_time": "2023-06-16T21:47:24.008Z"
   },
   {
    "duration": 12,
    "start_time": "2023-06-16T21:47:24.155Z"
   },
   {
    "duration": 10,
    "start_time": "2023-06-16T21:47:24.169Z"
   },
   {
    "duration": 9,
    "start_time": "2023-06-16T21:47:24.181Z"
   },
   {
    "duration": 16,
    "start_time": "2023-06-16T21:47:24.192Z"
   },
   {
    "duration": 10,
    "start_time": "2023-06-16T21:47:24.209Z"
   },
   {
    "duration": 36,
    "start_time": "2023-06-16T21:47:24.221Z"
   },
   {
    "duration": 6,
    "start_time": "2023-06-16T21:47:24.260Z"
   },
   {
    "duration": 16,
    "start_time": "2023-06-16T21:47:24.268Z"
   },
   {
    "duration": 18,
    "start_time": "2023-06-16T21:47:24.286Z"
   },
   {
    "duration": 38,
    "start_time": "2023-06-16T21:47:24.306Z"
   },
   {
    "duration": 23,
    "start_time": "2023-06-16T21:47:24.346Z"
   },
   {
    "duration": 41,
    "start_time": "2023-06-16T21:47:24.370Z"
   },
   {
    "duration": 10,
    "start_time": "2023-06-16T21:47:24.412Z"
   },
   {
    "duration": 18,
    "start_time": "2023-06-16T21:47:24.423Z"
   },
   {
    "duration": 23,
    "start_time": "2023-06-16T21:47:24.443Z"
   },
   {
    "duration": 19,
    "start_time": "2023-06-16T21:47:24.468Z"
   },
   {
    "duration": 10,
    "start_time": "2023-06-16T21:47:24.489Z"
   },
   {
    "duration": 12,
    "start_time": "2023-06-16T21:47:24.500Z"
   },
   {
    "duration": 19,
    "start_time": "2023-06-16T21:47:24.513Z"
   },
   {
    "duration": 61,
    "start_time": "2023-06-16T21:48:43.383Z"
   },
   {
    "duration": 7,
    "start_time": "2023-06-16T21:48:51.893Z"
   },
   {
    "duration": 8,
    "start_time": "2023-06-16T21:49:13.986Z"
   },
   {
    "duration": 537,
    "start_time": "2023-06-16T21:49:23.426Z"
   },
   {
    "duration": 6938,
    "start_time": "2023-06-16T21:49:23.964Z"
   },
   {
    "duration": 75,
    "start_time": "2023-06-16T21:49:30.904Z"
   },
   {
    "duration": 11,
    "start_time": "2023-06-16T21:49:30.981Z"
   },
   {
    "duration": 41,
    "start_time": "2023-06-16T21:49:30.993Z"
   },
   {
    "duration": 30,
    "start_time": "2023-06-16T21:49:31.036Z"
   },
   {
    "duration": 25,
    "start_time": "2023-06-16T21:49:31.068Z"
   },
   {
    "duration": 21,
    "start_time": "2023-06-16T21:49:31.095Z"
   },
   {
    "duration": 12,
    "start_time": "2023-06-16T21:49:31.118Z"
   },
   {
    "duration": 7,
    "start_time": "2023-06-16T21:49:31.133Z"
   },
   {
    "duration": 21,
    "start_time": "2023-06-16T21:49:31.141Z"
   },
   {
    "duration": 18,
    "start_time": "2023-06-16T21:49:31.163Z"
   },
   {
    "duration": 21,
    "start_time": "2023-06-16T21:49:31.183Z"
   },
   {
    "duration": 21,
    "start_time": "2023-06-16T21:49:31.206Z"
   },
   {
    "duration": 34,
    "start_time": "2023-06-16T21:49:31.229Z"
   },
   {
    "duration": 9,
    "start_time": "2023-06-16T21:49:31.265Z"
   },
   {
    "duration": 25,
    "start_time": "2023-06-16T21:49:31.276Z"
   },
   {
    "duration": 15,
    "start_time": "2023-06-16T21:49:31.303Z"
   },
   {
    "duration": 27,
    "start_time": "2023-06-16T21:49:31.320Z"
   },
   {
    "duration": 10,
    "start_time": "2023-06-16T21:49:31.348Z"
   },
   {
    "duration": 17,
    "start_time": "2023-06-16T21:49:31.359Z"
   },
   {
    "duration": 8,
    "start_time": "2023-06-16T21:49:31.377Z"
   },
   {
    "duration": 18,
    "start_time": "2023-06-16T21:49:31.387Z"
   },
   {
    "duration": 10,
    "start_time": "2023-06-16T21:50:02.278Z"
   },
   {
    "duration": 64,
    "start_time": "2023-06-16T21:51:45.099Z"
   },
   {
    "duration": 24,
    "start_time": "2023-06-16T21:51:54.832Z"
   },
   {
    "duration": 28,
    "start_time": "2023-06-16T21:52:01.142Z"
   },
   {
    "duration": 11,
    "start_time": "2023-06-16T21:53:02.926Z"
   },
   {
    "duration": 8,
    "start_time": "2023-06-16T21:54:12.792Z"
   },
   {
    "duration": 12,
    "start_time": "2023-06-16T21:54:51.472Z"
   },
   {
    "duration": 11,
    "start_time": "2023-06-16T21:55:29.743Z"
   },
   {
    "duration": 11,
    "start_time": "2023-06-16T21:56:39.335Z"
   },
   {
    "duration": 93,
    "start_time": "2023-06-16T22:00:03.784Z"
   },
   {
    "duration": 11,
    "start_time": "2023-06-16T22:00:19.440Z"
   },
   {
    "duration": 9,
    "start_time": "2023-06-16T22:00:32.447Z"
   },
   {
    "duration": 10,
    "start_time": "2023-06-16T22:00:42.442Z"
   },
   {
    "duration": 11,
    "start_time": "2023-06-16T22:01:35.425Z"
   },
   {
    "duration": 532,
    "start_time": "2023-06-16T22:01:50.229Z"
   },
   {
    "duration": 9173,
    "start_time": "2023-06-16T22:01:50.763Z"
   },
   {
    "duration": 57,
    "start_time": "2023-06-16T22:01:59.938Z"
   },
   {
    "duration": 11,
    "start_time": "2023-06-16T22:01:59.996Z"
   },
   {
    "duration": 38,
    "start_time": "2023-06-16T22:02:00.009Z"
   },
   {
    "duration": 15,
    "start_time": "2023-06-16T22:02:00.048Z"
   },
   {
    "duration": 39,
    "start_time": "2023-06-16T22:02:00.065Z"
   },
   {
    "duration": 29,
    "start_time": "2023-06-16T22:02:00.105Z"
   },
   {
    "duration": 18,
    "start_time": "2023-06-16T22:02:00.136Z"
   },
   {
    "duration": 24,
    "start_time": "2023-06-16T22:02:00.156Z"
   },
   {
    "duration": 19,
    "start_time": "2023-06-16T22:02:00.181Z"
   },
   {
    "duration": 8,
    "start_time": "2023-06-16T22:02:00.202Z"
   },
   {
    "duration": 9,
    "start_time": "2023-06-16T22:02:00.212Z"
   },
   {
    "duration": 30,
    "start_time": "2023-06-16T22:02:00.223Z"
   },
   {
    "duration": 51,
    "start_time": "2023-06-16T22:02:00.255Z"
   },
   {
    "duration": 11,
    "start_time": "2023-06-16T22:02:00.308Z"
   },
   {
    "duration": 61,
    "start_time": "2023-06-16T22:02:00.320Z"
   },
   {
    "duration": 27,
    "start_time": "2023-06-16T22:02:00.383Z"
   },
   {
    "duration": 46,
    "start_time": "2023-06-16T22:02:00.412Z"
   },
   {
    "duration": 28,
    "start_time": "2023-06-16T22:02:00.460Z"
   },
   {
    "duration": 39,
    "start_time": "2023-06-16T22:02:00.490Z"
   },
   {
    "duration": 32,
    "start_time": "2023-06-16T22:02:00.530Z"
   },
   {
    "duration": 47,
    "start_time": "2023-06-16T22:02:00.564Z"
   },
   {
    "duration": 74,
    "start_time": "2023-06-16T22:02:00.613Z"
   },
   {
    "duration": 26,
    "start_time": "2023-06-16T22:02:00.689Z"
   },
   {
    "duration": 62,
    "start_time": "2023-06-16T22:02:00.717Z"
   },
   {
    "duration": 29,
    "start_time": "2023-06-16T22:02:00.781Z"
   },
   {
    "duration": 15,
    "start_time": "2023-06-16T22:02:44.033Z"
   },
   {
    "duration": 9,
    "start_time": "2023-06-16T22:03:31.400Z"
   },
   {
    "duration": 468,
    "start_time": "2023-06-17T17:02:22.896Z"
   },
   {
    "duration": 10060,
    "start_time": "2023-06-17T17:02:23.366Z"
   },
   {
    "duration": 295,
    "start_time": "2023-06-17T17:02:33.427Z"
   },
   {
    "duration": 20,
    "start_time": "2023-06-17T17:02:33.724Z"
   },
   {
    "duration": 22,
    "start_time": "2023-06-17T17:02:33.746Z"
   },
   {
    "duration": 17,
    "start_time": "2023-06-17T17:02:33.770Z"
   },
   {
    "duration": 94,
    "start_time": "2023-06-17T17:02:33.789Z"
   },
   {
    "duration": 10,
    "start_time": "2023-06-17T17:02:33.884Z"
   },
   {
    "duration": 44,
    "start_time": "2023-06-17T17:02:33.895Z"
   },
   {
    "duration": 37,
    "start_time": "2023-06-17T17:02:33.942Z"
   },
   {
    "duration": 80,
    "start_time": "2023-06-17T17:02:33.980Z"
   },
   {
    "duration": 8,
    "start_time": "2023-06-17T17:02:34.062Z"
   },
   {
    "duration": 19,
    "start_time": "2023-06-17T17:02:34.071Z"
   },
   {
    "duration": 18,
    "start_time": "2023-06-17T17:02:34.091Z"
   },
   {
    "duration": 111,
    "start_time": "2023-06-17T17:02:34.111Z"
   },
   {
    "duration": 20,
    "start_time": "2023-06-17T17:02:34.224Z"
   },
   {
    "duration": 9,
    "start_time": "2023-06-17T17:02:34.245Z"
   },
   {
    "duration": 8,
    "start_time": "2023-06-17T17:02:34.255Z"
   },
   {
    "duration": 98,
    "start_time": "2023-06-17T17:02:34.265Z"
   },
   {
    "duration": 8,
    "start_time": "2023-06-17T17:02:34.365Z"
   },
   {
    "duration": 8,
    "start_time": "2023-06-17T17:02:34.375Z"
   },
   {
    "duration": 12,
    "start_time": "2023-06-17T17:02:34.384Z"
   },
   {
    "duration": 476,
    "start_time": "2023-06-17T17:02:34.397Z"
   },
   {
    "duration": 72,
    "start_time": "2023-06-17T17:02:34.874Z"
   },
   {
    "duration": 93,
    "start_time": "2023-06-17T17:02:34.948Z"
   },
   {
    "duration": 37,
    "start_time": "2023-06-17T17:02:35.042Z"
   },
   {
    "duration": 39,
    "start_time": "2023-06-17T17:02:35.081Z"
   },
   {
    "duration": 46,
    "start_time": "2023-06-17T17:02:35.123Z"
   },
   {
    "duration": 180,
    "start_time": "2023-06-17T17:03:27.229Z"
   },
   {
    "duration": 548,
    "start_time": "2023-06-17T17:03:34.214Z"
   },
   {
    "duration": 107,
    "start_time": "2023-06-17T17:05:14.693Z"
   },
   {
    "duration": 248,
    "start_time": "2023-06-17T17:06:49.445Z"
   },
   {
    "duration": 114,
    "start_time": "2023-06-17T17:07:18.630Z"
   },
   {
    "duration": 80,
    "start_time": "2023-06-17T17:09:06.784Z"
   },
   {
    "duration": 72,
    "start_time": "2023-06-17T17:09:54.445Z"
   },
   {
    "duration": 79,
    "start_time": "2023-06-17T17:10:18.100Z"
   },
   {
    "duration": 75,
    "start_time": "2023-06-17T17:11:12.414Z"
   },
   {
    "duration": 79,
    "start_time": "2023-06-17T17:11:32.171Z"
   },
   {
    "duration": 82,
    "start_time": "2023-06-17T17:12:24.317Z"
   },
   {
    "duration": 75,
    "start_time": "2023-06-17T17:13:44.057Z"
   },
   {
    "duration": 96,
    "start_time": "2023-06-17T17:13:55.501Z"
   },
   {
    "duration": 78,
    "start_time": "2023-06-17T17:16:02.217Z"
   },
   {
    "duration": 103,
    "start_time": "2023-06-17T17:16:49.490Z"
   },
   {
    "duration": 109,
    "start_time": "2023-06-17T17:17:17.695Z"
   },
   {
    "duration": 124,
    "start_time": "2023-06-17T17:17:55.218Z"
   },
   {
    "duration": 111,
    "start_time": "2023-06-17T17:18:16.063Z"
   },
   {
    "duration": 89,
    "start_time": "2023-06-17T17:18:26.890Z"
   },
   {
    "duration": 41,
    "start_time": "2023-06-17T17:19:31.765Z"
   },
   {
    "duration": 73,
    "start_time": "2023-06-17T17:19:52.153Z"
   },
   {
    "duration": 53,
    "start_time": "2023-06-17T17:19:57.429Z"
   },
   {
    "duration": 45,
    "start_time": "2023-06-17T17:20:32.052Z"
   },
   {
    "duration": 499,
    "start_time": "2023-06-17T17:24:45.974Z"
   },
   {
    "duration": 14388,
    "start_time": "2023-06-17T17:24:46.475Z"
   },
   {
    "duration": 844,
    "start_time": "2023-06-17T17:25:00.864Z"
   },
   {
    "duration": 92,
    "start_time": "2023-06-17T17:25:01.711Z"
   },
   {
    "duration": 376,
    "start_time": "2023-06-17T17:25:01.805Z"
   },
   {
    "duration": 393,
    "start_time": "2023-06-17T17:25:02.183Z"
   },
   {
    "duration": 225,
    "start_time": "2023-06-17T17:25:02.578Z"
   },
   {
    "duration": 282,
    "start_time": "2023-06-17T17:25:02.804Z"
   },
   {
    "duration": 77,
    "start_time": "2023-06-17T17:25:03.088Z"
   },
   {
    "duration": 510,
    "start_time": "2023-06-17T17:29:09.672Z"
   },
   {
    "duration": 186,
    "start_time": "2023-06-17T17:29:29.898Z"
   },
   {
    "duration": 679,
    "start_time": "2023-06-17T17:30:30.908Z"
   },
   {
    "duration": 584,
    "start_time": "2023-06-17T17:31:00.986Z"
   },
   {
    "duration": 520,
    "start_time": "2023-06-17T17:31:18.655Z"
   },
   {
    "duration": 11807,
    "start_time": "2023-06-17T17:31:19.187Z"
   },
   {
    "duration": 864,
    "start_time": "2023-06-17T17:31:30.997Z"
   },
   {
    "duration": 90,
    "start_time": "2023-06-17T17:31:31.871Z"
   },
   {
    "duration": 94,
    "start_time": "2023-06-17T17:31:31.965Z"
   },
   {
    "duration": 102,
    "start_time": "2023-06-17T17:31:32.063Z"
   },
   {
    "duration": 38,
    "start_time": "2023-06-17T17:31:32.167Z"
   },
   {
    "duration": 66,
    "start_time": "2023-06-17T17:31:32.206Z"
   },
   {
    "duration": 37,
    "start_time": "2023-06-17T17:31:32.273Z"
   },
   {
    "duration": 505,
    "start_time": "2023-06-18T17:20:14.192Z"
   },
   {
    "duration": 10060,
    "start_time": "2023-06-18T17:20:14.699Z"
   },
   {
    "duration": 819,
    "start_time": "2023-06-18T17:20:24.760Z"
   },
   {
    "duration": 80,
    "start_time": "2023-06-18T17:20:25.581Z"
   },
   {
    "duration": 94,
    "start_time": "2023-06-18T17:20:25.663Z"
   },
   {
    "duration": 83,
    "start_time": "2023-06-18T17:20:25.759Z"
   },
   {
    "duration": 97,
    "start_time": "2023-06-18T17:20:25.844Z"
   },
   {
    "duration": 41,
    "start_time": "2023-06-18T17:20:25.943Z"
   },
   {
    "duration": 49,
    "start_time": "2023-06-18T17:20:25.986Z"
   },
   {
    "duration": 42,
    "start_time": "2023-06-18T17:20:26.037Z"
   },
   {
    "duration": 495,
    "start_time": "2023-06-18T17:28:58.829Z"
   },
   {
    "duration": 9134,
    "start_time": "2023-06-18T17:28:59.326Z"
   },
   {
    "duration": 694,
    "start_time": "2023-06-18T17:29:08.462Z"
   },
   {
    "duration": 67,
    "start_time": "2023-06-18T17:29:09.158Z"
   },
   {
    "duration": 85,
    "start_time": "2023-06-18T17:29:09.226Z"
   },
   {
    "duration": 74,
    "start_time": "2023-06-18T17:29:09.313Z"
   },
   {
    "duration": 84,
    "start_time": "2023-06-18T17:29:09.388Z"
   },
   {
    "duration": 37,
    "start_time": "2023-06-18T17:29:09.474Z"
   },
   {
    "duration": 39,
    "start_time": "2023-06-18T17:29:09.512Z"
   },
   {
    "duration": 37,
    "start_time": "2023-06-18T17:29:09.553Z"
   },
   {
    "duration": 76,
    "start_time": "2023-06-18T17:30:00.209Z"
   },
   {
    "duration": 466,
    "start_time": "2023-06-18T17:30:46.777Z"
   },
   {
    "duration": 8584,
    "start_time": "2023-06-18T17:30:47.244Z"
   },
   {
    "duration": 653,
    "start_time": "2023-06-18T17:30:55.829Z"
   },
   {
    "duration": 67,
    "start_time": "2023-06-18T17:30:56.484Z"
   },
   {
    "duration": 86,
    "start_time": "2023-06-18T17:30:56.553Z"
   },
   {
    "duration": 36,
    "start_time": "2023-06-18T17:30:56.641Z"
   },
   {
    "duration": 39,
    "start_time": "2023-06-18T17:30:56.679Z"
   },
   {
    "duration": 37,
    "start_time": "2023-06-18T17:30:56.719Z"
   }
  ],
  "kernelspec": {
   "display_name": "Python 3 (ipykernel)",
   "language": "python",
   "name": "python3"
  },
  "language_info": {
   "codemirror_mode": {
    "name": "ipython",
    "version": 3
   },
   "file_extension": ".py",
   "mimetype": "text/x-python",
   "name": "python",
   "nbconvert_exporter": "python",
   "pygments_lexer": "ipython3",
   "version": "3.9.16"
  },
  "toc": {
   "base_numbering": 1,
   "nav_menu": {},
   "number_sections": true,
   "sideBar": true,
   "skip_h1_title": true,
   "title_cell": "Table of Contents",
   "title_sidebar": "Contents",
   "toc_cell": false,
   "toc_position": {},
   "toc_section_display": true,
   "toc_window_display": true
  }
 },
 "nbformat": 4,
 "nbformat_minor": 2
}
